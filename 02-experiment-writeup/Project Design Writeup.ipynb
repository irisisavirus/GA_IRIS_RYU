{
 "cells": [
  {
   "cell_type": "markdown",
   "metadata": {},
   "source": [
    "####  Iris Ryu"
   ]
  },
  {
   "cell_type": "markdown",
   "metadata": {},
   "source": [
    "# Project Design Writeup "
   ]
  },
  {
   "cell_type": "markdown",
   "metadata": {},
   "source": [
    "## INTRO\n"
   ]
  },
  {
   "cell_type": "markdown",
   "metadata": {},
   "source": [
    "According to CDC, one in every 6 people get some sort of foodborne illness a year. In order to try to mitigate foodborne illness, New York City created a Restaurant Inspection Rating System that tries to make restaurant sanitation more transparent to consumers. After much success, similar rating systems were then adopted by many different cities including but not limited to San Fransico, Chicago, Los Angeles, and Las Vegas. \n",
    "\n",
    "But how telling are these rating in reality? Are they actually good barometers of health safety? What do ratings actually tell us? Do they relate to actual quality of the food? \n",
    "\n",
    "This project aims to try to answer as much of these questions, in the simplest form through Data Science."
   ]
  },
  {
   "cell_type": "markdown",
   "metadata": {},
   "source": [
    "## PROJECT PROBLEM"
   ]
  },
  {
   "cell_type": "markdown",
   "metadata": {},
   "source": [
    "There are largely two project problems:\n",
    "\n",
    "__1. What is the likely sanitation score of a restaurant in NYC given different variables, such as zip code, violation type, cuisine, etc__\n",
    "\n",
    "__2. Given we know the sanitation scores, is it a good predictor for how good the food is? If not, what is a good predictor? __\n"
   ]
  },
  {
   "cell_type": "markdown",
   "metadata": {},
   "source": [
    "The details of the two project problems are below:\n",
    "\n",
    "__1. Predicting sanitary inspection scores__\n",
    "- __Outcome:__ Sanitation inspection score (continuous variable)\n",
    "- __Possible Features:__\n",
    "    - zip code (categorical)\n",
    "    - street (categorical)\n",
    "    - cuisine category (categorical)\n",
    "    - violation code (binary)\n",
    "    - inspection type (categorical)\n",
    "    - Borough (categorical)\n",
    "    - violation type (categorical)\n",
    "    - criticality (categorical)\n",
    "    - price range (categorical)\n",
    "    \n",
    "Because the outcome of interest is a continuous variable, a linear regression analysis may be the best starting point.\n",
    "\n",
    "__2. Analyzing restaurant quality through sanitation score and other features__\n",
    "- __Outcome:__ restaurant rating (1-5) (continuous variable)\n",
    "- __Possible Features:__\n",
    "    - Most recent inspection score (continuous)\n",
    "    - Max inspection score (continuous)\n",
    "    - Min inspection score (continuous)\n",
    "    - Average inspection score (continuous)\n",
    "    - Std dev inspection score (continuous)\n",
    "    - price range (categorical)\n",
    "    - review count (continuous)\n",
    "    - restaurant category (categorical) \n",
    "    - area (categorical)\n",
    "    - postal code (categorical)\n",
    "    \n",
    "Because the outcome of interes is a continuous variable, a linear regression analysis may be the best starting point. \n"
   ]
  },
  {
   "cell_type": "markdown",
   "metadata": {},
   "source": [
    "## HYPOTHESIS"
   ]
  },
  {
   "cell_type": "markdown",
   "metadata": {},
   "source": [
    "__1. Predicting sanitary inspection scores__\n",
    "- Features that are likely to have a large impact:\n",
    "    - cuisine\n",
    "    - criticality\n",
    "    - price range \n",
    "    - violation category\n",
    "- Where restaurants with a higher price range would tend to have lower inspection scores, inspections with lower number of critical violations will score lower, and cuisines small scale restaurants like cafes will have lower inspection scores\n",
    "- Because we are focusing on the 5 bouroughs of NYC, the area/zip code is speculated to have minimal impact\n",
    "\n",
    "__2. Analyzing restaurant quality through sanitation score and other features__\n",
    "- Features that are likely to have a large impact: \n",
    "    - price range\n",
    "    - postal code \n",
    "- where the higher the price range, the higher the restaurant rating will tend to be, and more expensive/gentrified areas would tend to have higher ratings"
   ]
  },
  {
   "cell_type": "markdown",
   "metadata": {},
   "source": [
    "## DATASETS"
   ]
  },
  {
   "cell_type": "markdown",
   "metadata": {},
   "source": [
    "To answer the 2 different questions, two separate data was cleaned differently, but both used the same 2 data sources. For sanitary inspection data, NYC OpenData was used, and for restaurant quality data, yelp data was scraped from their website using BeautifulSoup."
   ]
  },
  {
   "cell_type": "markdown",
   "metadata": {},
   "source": [
    "### Original Data\n",
    "#### -- DOHMH New York City Restaurant Inspection Results --\n",
    "\n",
    "__Source:__ https://data.cityofnewyork.us/Health/DOHMH-New-York-City-Restaurant-Inspection-Results/43nn-pn8j\n",
    "\n",
    "#### Data Dictionary:\n",
    "\n",
    "FieldName|Type|Description\n",
    "---------|----|-----------\n",
    "CAMIS| int | Unique identifier for the restaurant\n",
    "DBA | string | Name of restaurant\n",
    "BORO | string | Borough in which the restaurant is located\n",
    "BUILDING | string | Building number for which the restaurant is located\n",
    "STREET | string | Street name at which the restaurant is located\n",
    "ZIPCODE | int | Zipcode as per the address of the restaurant\n",
    "PHONE | string | Phone number of restaurant\n",
    "CUISINE DESCRIPTION | string | Describes the cuisine of the restaurant \n",
    "INSPECTION DATE | date | Date at which the inspection took place \n",
    "ACTION | string | Action associated with each restaurant inspection\n",
    "VIOLATION CODE | string | Code for the particular violation recorded for each restaurant\n",
    "VIOLATION DESCRIPTION | string | Description of violation associated with each violation code recorded for each restaurant\n",
    "CRITICAL FLAG | binary| Flag if particular violation recorded is Critical = 1, Not Critical = 0\n",
    "SCORE | int | Total Score for a particular inspection. If there was adjudication a judge may reduce the total points for the inspection and this field will have the update amount\n",
    "GRADE | string | • N = Not Yet Graded • A = Grade A • B = Grade B • C = Grade C • Z = Grade Pending • P= Grade Pending issued on re-opening following an initial inspection that resulted in a closure\n",
    "GRADE DATE | date | Date when the current grade was issued to the restaurant\n",
    "RECORD DATE | date | The date when the extract was run to produce this data set\n",
    "INSPECTION TYPE | string | The type of inspection. A combination of the program and inspection type\n",
    "\n",
    "Where every row is a unique violation"
   ]
  },
  {
   "cell_type": "markdown",
   "metadata": {},
   "source": [
    "#### -- Yelp NYC Metadata --\n",
    "\n",
    "__Code Source:__ https://github.com/bzsaindon/nycdsablog/blob/master/restaurantreviewsfoodborneillness/foodborne_illness_yelp.ipynb\n",
    "__Data as of:__ 5/14/2017\n",
    "\n",
    "#### Data Dictionary:\n",
    "\n",
    "FieldName|Type|Description\n",
    "---------|----|-----------\n",
    "area| string | area in which the restaurant is located\n",
    "restaurant | string | Name of restaurant\n",
    "postal_code | int | Zipcode as per the address of the restaurant\n",
    "phone | string | Phone number of restaurant\n",
    "category | string | Describes the cuisine of the restaurant \n",
    "price_range | string | price range of an average meal at restaurant \n",
    "rating_value | float | average rating from 1-5 for all reviews of restaurant\n",
    "review_count | int | Number of reviews written for restaurant\n",
    "\n",
    "Where every row is a unique restaurant randomly selected"
   ]
  },
  {
   "cell_type": "markdown",
   "metadata": {},
   "source": [
    "### Cleaned Data\n",
    "\n",
    "-- *for details, please look at \"Getting Yelp & Inspection Score Data notebook* --\n",
    "\n",
    "#### -- Predicting sanitary inspection scores --\n",
    "\n",
    "__What was cleaned:__\n",
    "- a row now represent a unique inspection and not a unique violation\n",
    "- each violation code was mapped to a violation category as categorized by http://www.ehagroup.com/food-safety/new-york-abc-restaurant-grading/NYC-HACCP-SCORESHEET.pdf\n",
    "- the critical/non critical column was split out into columns \"Critical\", \"Not Applicable\", and \"Not Critical\", where each column represented the number of violations recorded in that category\n",
    "- the violation codes were transposed from row to column, where 1 = violation was recorded and 0 = violation was not recorded. The violations were then categorized into violation categories, where the each violation category column represented the number of violations recorded for that particular type of violation\n",
    "\n",
    "__Assumptions:__\n",
    "- the manual mapping of violation category to violation code are accurate\n",
    "- inspection scores are a better representation of restaurant health than grade \n",
    "\n",
    "__Notes:__\n",
    "- Nutrition display, Legal, and Tabacco violation categories are not considered in this analysis because these new violations were implemented recently and there is not sufficient data per restaurant to analyze on these categories\n",
    "\n",
    "#### Data Dictionary:\n",
    "\n",
    "FieldName|Type|Description\n",
    "---------|----|-----------\n",
    "PHONE | string | Phone number of restaurant\n",
    "DBA | string | Name of restaurant\n",
    "BORO | string | Borough in which the restaurant is located\n",
    "STREET | string | Street name at which the restaurant is located\n",
    "ZIPCODE | int | Zipcode as per the address of the restaurant\n",
    "CUISINE DESCRIPTION | string | Describes the cuisine of the restaurant \n",
    "INSPECTION DATE | date | Date at which the inspection took place \n",
    "INSPECTION TYPE | string | The type of inspection. A combination of the program and inspection type\n",
    "SCORE | int | Total Score for a particular inspection. If there was adjudication a judge may reduce the total points for the inspection and this field will have the update amount\n",
    "GRADE | string | • N = Not Yet Graded • A = Grade A • B = Grade B • C = Grade C • Z = Grade Pending • P= Grade Pending issued on re-opening following an initial inspection that resulted in a closure\n",
    "CHEMICALS | int | Number of violations related to chemicals for this inspection\n",
    "EMERGENCY SAFETY | int | Number of violations related to emergency safety for this inspection\n",
    "FACILITY | int | Number of violations related to facility for this inspection\n",
    "FOOD HANDLING | int | Number of violations related to food handling for this inspection\n",
    "HACCP PROGRAM | int | Number of violations related to HACCP program for this inspection\n",
    "LEGAL | int | Number of violations related to legal for this inspection\n",
    "NUTRITION DISPLAY | int | Number of violations related to nutrition diplay for this inspection\n",
    "OTHER | int | Number of violations related to categorized as other for this inspection\n",
    "PERSONAL HYGIENE | int | Number of violations related to personal hygiene for this inspection\n",
    "SANITIZING PROGRAM | int | Number of violations related to sanitizing program for this inspection\n",
    "TABACCO | int | Number of violations related to tabacco for this inspection\n",
    "TEMPERATURE CONTROLS | int | Number of violations related to temperature controls for this inspection\n",
    "VECTORS | int | Number of violations related to vectors, or vermin related violations for this inspection\n",
    "WATER SUPPLY AND WASTE DISPOSAL | int | Number of violations related to water supply and waste disposal for this inspection\n",
    "#N/A | int | Number of violations that didn't have enough information for this inspection\n",
    "Critical | int | Number of violations that were \"Critical\" for this inspection\n",
    "Not Applicable | int | Number of violations that were \"Not Applicable\" criticality for this inspection\n",
    "Not Critical | int | Number of violation that were \"Not Critical\" for this inspection\n"
   ]
  },
  {
   "cell_type": "markdown",
   "metadata": {},
   "source": [
    "#### -- Analyzing restaurant quality --\n",
    "\n",
    "__Notes:__\n",
    "- NYC OpenData and yelp data were merged on phone #. The original dataset of 393 datapoints became 272 datapoints with both yelp and inspection data\n",
    "\n",
    "#### Data Dictionary:\n",
    "\n",
    "FieldName|Type|Description\n",
    "---------|----|-----------\n",
    "area| string | area in which the restaurant is located\n",
    "restaurant | string | Name of restaurant\n",
    "postal_code | int | Zipcode as per the address of the restaurant\n",
    "phone | string | Phone number of restaurant\n",
    "category | string | Describes the cuisine of the restaurant \n",
    "price_range | string | price range of an average meal at restaurant \n",
    "rating_value | float | average rating from 1-5 for all reviews of restaurant\n",
    "review_count | int | Number of reviews written for restaurant\n",
    "STREET | string | Street name at which the restaurant is located\n",
    "CUISINE DESCRIPTION | string | Describes the cuisine of the restaurant \n",
    "Score Count | int | Total number of inspections done at this restaurant since 2011\n",
    "Score Recent | int | Most recent inspection score for this restaurant\n",
    "Score Max | int | Highest outstanding inspection score for this restaurant since 2011\n",
    "Score Min | int | Lowest outstanding inspection score for this restaurant since 2011\n",
    "Score Average | int | Average inspection score for this restaurant YTD since 2011\n",
    "Score StdDev | int | Standard Deviation of inspection score for this restaurant for scores from 2011 to YTD\n",
    "Grade A Count | int | Number of times this restaurant got an inspection grade of A from 2011 to YTD\n",
    "Grade B Count | int | Number of times this restaurant got an inspection grade of B from 2011 to YTD\n",
    "Grade C Count | int | Number of times this restaurant got an inspection grade of C from 2011 to YTD\n",
    "Not Yet Graded | int | Number of times this restaurant got an inspection but didn't get graded from 2011 to YTD\n",
    "P Count | int | Number of times this restaurant got a P after inspection from 2011 to YTD\n",
    "Z Count | int | Number of times this restaurant got a Z after inspection from 2011 to YTD"
   ]
  },
  {
   "cell_type": "markdown",
   "metadata": {},
   "source": [
    "## DOMAIN KNOWLEDGE"
   ]
  },
  {
   "cell_type": "markdown",
   "metadata": {},
   "source": [
    "Although I do not have experience working or associated to Restaurant Inspection Score processes, as a customer to restaurants in NYC, I am conscious and aware of restaurant grades posted in front of restaurants. I studied about the restaurant grading process, so hopefully this will help me. \n",
    "\n",
    "Source: http://www1.nyc.gov/site/doh/services/restaurant-grades.page\n",
    "\n",
    "In addition, understanding the grading system process will help with the analysis. Depending on the type of inspection and the respected score recorded for that inspection, the resulting grade of a restaurant can differ. For example, if a restaurant gets an inspection score of 13+ on their initial inspection, they are not graded immediately, but get another change to get an A grade through another inspection ~ a week after intial inspection. When analyzing the \"Grade\" count columns, we must be aware of this, and that non A grades can only be given for \"Cycle Inspections\"\n",
    "\n",
    "### Pre-existing Models\n",
    "\n",
    "Source: \n",
    "- Harvard Study on Restaurant Inspection:\n",
    "    - The idea of \"categorizing\" each violation was inspired from this\n",
    "    - Source: https://harvarddatasciencerestaurantinspections.wordpress.com/2014/12/12/big-data-analysis-of-nyc-restaurant-inspections/\n",
    "- NYC Data Science Analysis:\n",
    "    - The idea of scraping data from yelp website was adopted from here\n",
    "    - Source: https://github.com/bzsaindon/nycdsablog/blob/master/restaurantreviewsfoodborneillness/foodborne_illness_yelp.ipynb\n"
   ]
  },
  {
   "cell_type": "markdown",
   "metadata": {},
   "source": [
    "## Project Concerns"
   ]
  },
  {
   "cell_type": "markdown",
   "metadata": {},
   "source": [
    "#### Questions:\n",
    "- I am still unsure how to best deal with columns that have a lot of zeros. For example, the inspection score dataset has a lot of zeros for the violation categories, because many restaurants have a small number of violations recorded. Will this affect my analysis? \n",
    "- I don't know if I should analyze zipcode as a number or as a category, and if I analyze zipcode as a category, how do I go about doing that? \n",
    "\n",
    "#### Assumptions: \n",
    "- all data collected from yelp is up to date as of 5/14/2017 and all inspection data was collected before 5/14/2017\n",
    "\n",
    "#### Missing Data:\n",
    "- because I used web scraping to collect data on yelp restaurants, I was unable to get other data that could have improved the model such as: \n",
    "   - Takes Reservations Y/N\n",
    "   - Delivery Y/N\n",
    "   - Take out Y/N\n",
    "   - Noise Level\n",
    "   - Outdoor Seating\n",
    "   - Dogs Allowed \n",
    "- If I could get other barometers of health, like number of food poisoning incidents or rodent appearances, the analysis may have been better, but I had no way of joining those information together\n",
    "   "
   ]
  },
  {
   "cell_type": "markdown",
   "metadata": {},
   "source": [
    "## Outcome\n"
   ]
  },
  {
   "cell_type": "markdown",
   "metadata": {},
   "source": [
    "There are two different ways this analysis could benefit: for __restaurant owners__ and __customers__\n",
    "\n",
    "__Restaurant Owners:__\n",
    "- If we can rank violation category importance for total inspection scores, restaurant owners can focus on improving those aspects of their restaurant to avoid getting a low grade\n",
    "- Because the categories are relatively straight forward, the model will most likely not be complicated\n",
    "- The output should be a linear regression model\n",
    "\n",
    "__Customers:__\n",
    "- Depending on the outcome, the analysis will provide customers with transparency on the 3 level grades, and will be able to make more educated decisions on whether to use sanitary inspections grades as a determinant of good food\n",
    "- Because it will intake more features that are different in nature, the model may be a littl more complicated but it will still be a linear regression for this case as well\n",
    "\n",
    "Both analysis will be a success if I can identify 1 or more features that are highly correlated with the outcome."
   ]
  },
  {
   "cell_type": "markdown",
   "metadata": {},
   "source": [
    "# RESOURCES"
   ]
  },
  {
   "cell_type": "markdown",
   "metadata": {},
   "source": [
    "Violation Categories: http://www1.nyc.gov/assets/doh/downloads/pdf/rii/self-inspection-worksheet.pdf\n"
   ]
  },
  {
   "cell_type": "code",
   "execution_count": null,
   "metadata": {
    "collapsed": true
   },
   "outputs": [],
   "source": []
  }
 ],
 "metadata": {
  "kernelspec": {
   "display_name": "Python 2",
   "language": "python",
   "name": "python2"
  },
  "language_info": {
   "codemirror_mode": {
    "name": "ipython",
    "version": 2
   },
   "file_extension": ".py",
   "mimetype": "text/x-python",
   "name": "python",
   "nbconvert_exporter": "python",
   "pygments_lexer": "ipython2",
   "version": "2.7.13"
  }
 },
 "nbformat": 4,
 "nbformat_minor": 2
}
